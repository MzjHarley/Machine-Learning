{
 "cells": [
  {
   "cell_type": "code",
   "execution_count": 102,
   "id": "6f7f6415",
   "metadata": {},
   "outputs": [],
   "source": [
    "import numpy as np\n",
    "import pandas as pd\n",
    "import matplotlib.pyplot as plt\n",
    "import scipy.optimize as opt"
   ]
  },
  {
   "cell_type": "markdown",
   "id": "86de573f",
   "metadata": {},
   "source": [
    "## 1.Read and Display"
   ]
  },
  {
   "cell_type": "code",
   "execution_count": 103,
   "id": "324b7a1e",
   "metadata": {
    "scrolled": true
   },
   "outputs": [
    {
     "data": {
      "text/html": [
       "<div>\n",
       "<style scoped>\n",
       "    .dataframe tbody tr th:only-of-type {\n",
       "        vertical-align: middle;\n",
       "    }\n",
       "\n",
       "    .dataframe tbody tr th {\n",
       "        vertical-align: top;\n",
       "    }\n",
       "\n",
       "    .dataframe thead th {\n",
       "        text-align: right;\n",
       "    }\n",
       "</style>\n",
       "<table border=\"1\" class=\"dataframe\">\n",
       "  <thead>\n",
       "    <tr style=\"text-align: right;\">\n",
       "      <th></th>\n",
       "      <th>Exam 1</th>\n",
       "      <th>Exam 2</th>\n",
       "      <th>Admitted</th>\n",
       "    </tr>\n",
       "  </thead>\n",
       "  <tbody>\n",
       "    <tr>\n",
       "      <th>0</th>\n",
       "      <td>0.051267</td>\n",
       "      <td>0.69956</td>\n",
       "      <td>1</td>\n",
       "    </tr>\n",
       "    <tr>\n",
       "      <th>1</th>\n",
       "      <td>-0.092742</td>\n",
       "      <td>0.68494</td>\n",
       "      <td>1</td>\n",
       "    </tr>\n",
       "    <tr>\n",
       "      <th>2</th>\n",
       "      <td>-0.213710</td>\n",
       "      <td>0.69225</td>\n",
       "      <td>1</td>\n",
       "    </tr>\n",
       "    <tr>\n",
       "      <th>3</th>\n",
       "      <td>-0.375000</td>\n",
       "      <td>0.50219</td>\n",
       "      <td>1</td>\n",
       "    </tr>\n",
       "    <tr>\n",
       "      <th>4</th>\n",
       "      <td>-0.513250</td>\n",
       "      <td>0.46564</td>\n",
       "      <td>1</td>\n",
       "    </tr>\n",
       "  </tbody>\n",
       "</table>\n",
       "</div>"
      ],
      "text/plain": [
       "     Exam 1   Exam 2  Admitted\n",
       "0  0.051267  0.69956         1\n",
       "1 -0.092742  0.68494         1\n",
       "2 -0.213710  0.69225         1\n",
       "3 -0.375000  0.50219         1\n",
       "4 -0.513250  0.46564         1"
      ]
     },
     "execution_count": 103,
     "metadata": {},
     "output_type": "execute_result"
    }
   ],
   "source": [
    "data = pd.read_csv(\"../Data/data.txt\", header=None, names=['Exam 1', 'Exam 2', 'Admitted'])\n",
    "data.head()"
   ]
  },
  {
   "cell_type": "code",
   "execution_count": 104,
   "id": "8fd27598",
   "metadata": {},
   "outputs": [
    {
     "data": {
      "image/png": "[encoded data removed]",
      "text/plain": [
       "<Figure size 864x576 with 1 Axes>"
      ]
     },
     "metadata": {
      "needs_background": "light"
     },
     "output_type": "display_data"
    }
   ],
   "source": [
    "positive2 = data[data['Admitted']==1]\n",
    "negative2 = data[data['Admitted']==0]\n",
    "plt.figure(figsize=(12,8))\n",
    "plt.scatter(positive2['Exam 1'], positive2['Exam 2'],c='b', marker='o', label='Accepted')\n",
    "plt.scatter(negative2['Exam 1'], negative2['Exam 2'], c='r', marker='x', label='Rejected')\n",
    "plt.legend()\n",
    "plt.xlabel('Exam 1 Score')\n",
    "plt.ylabel('Exam 2 Score')\n",
    "plt.show()"
   ]
  },
  {
   "cell_type": "markdown",
   "id": "27e0d3fb",
   "metadata": {},
   "source": [
    "The above image shows that this dataset cannot be split between two parts using a straight line as before. Logistic regression is only suitable for linear segmentation, so this dataset is not suitable for direct use of logistic regression.  \n",
    "A better way to use datasets is to create more features for each set of data. So we added features up to the power of 6 for each set of data.  "
   ]
  },
  {
   "cell_type": "code",
   "execution_count": 105,
   "id": "cf525e37",
   "metadata": {},
   "outputs": [
    {
     "data": {
      "text/html": [
       "<div>\n",
       "<style scoped>\n",
       "    .dataframe tbody tr th:only-of-type {\n",
       "        vertical-align: middle;\n",
       "    }\n",
       "\n",
       "    .dataframe tbody tr th {\n",
       "        vertical-align: top;\n",
       "    }\n",
       "\n",
       "    .dataframe thead th {\n",
       "        text-align: right;\n",
       "    }\n",
       "</style>\n",
       "<table border=\"1\" class=\"dataframe\">\n",
       "  <thead>\n",
       "    <tr style=\"text-align: right;\">\n",
       "      <th></th>\n",
       "      <th>Admitted</th>\n",
       "      <th>ones</th>\n",
       "      <th>F10</th>\n",
       "      <th>F01</th>\n",
       "      <th>F20</th>\n",
       "      <th>F11</th>\n",
       "      <th>F02</th>\n",
       "      <th>F30</th>\n",
       "      <th>F21</th>\n",
       "      <th>F12</th>\n",
       "      <th>...</th>\n",
       "      <th>F23</th>\n",
       "      <th>F14</th>\n",
       "      <th>F05</th>\n",
       "      <th>F60</th>\n",
       "      <th>F51</th>\n",
       "      <th>F42</th>\n",
       "      <th>F33</th>\n",
       "      <th>F24</th>\n",
       "      <th>F15</th>\n",
       "      <th>F06</th>\n",
       "    </tr>\n",
       "  </thead>\n",
       "  <tbody>\n",
       "    <tr>\n",
       "      <th>0</th>\n",
       "      <td>1</td>\n",
       "      <td>1</td>\n",
       "      <td>0.051267</td>\n",
       "      <td>0.69956</td>\n",
       "      <td>0.002628</td>\n",
       "      <td>0.035864</td>\n",
       "      <td>0.489384</td>\n",
       "      <td>0.000135</td>\n",
       "      <td>0.001839</td>\n",
       "      <td>0.025089</td>\n",
       "      <td>...</td>\n",
       "      <td>0.000900</td>\n",
       "      <td>0.012278</td>\n",
       "      <td>0.167542</td>\n",
       "      <td>1.815630e-08</td>\n",
       "      <td>2.477505e-07</td>\n",
       "      <td>0.000003</td>\n",
       "      <td>0.000046</td>\n",
       "      <td>0.000629</td>\n",
       "      <td>0.008589</td>\n",
       "      <td>0.117206</td>\n",
       "    </tr>\n",
       "    <tr>\n",
       "      <th>1</th>\n",
       "      <td>1</td>\n",
       "      <td>1</td>\n",
       "      <td>-0.092742</td>\n",
       "      <td>0.68494</td>\n",
       "      <td>0.008601</td>\n",
       "      <td>-0.063523</td>\n",
       "      <td>0.469143</td>\n",
       "      <td>-0.000798</td>\n",
       "      <td>0.005891</td>\n",
       "      <td>-0.043509</td>\n",
       "      <td>...</td>\n",
       "      <td>0.002764</td>\n",
       "      <td>-0.020412</td>\n",
       "      <td>0.150752</td>\n",
       "      <td>6.362953e-07</td>\n",
       "      <td>-4.699318e-06</td>\n",
       "      <td>0.000035</td>\n",
       "      <td>-0.000256</td>\n",
       "      <td>0.001893</td>\n",
       "      <td>-0.013981</td>\n",
       "      <td>0.103256</td>\n",
       "    </tr>\n",
       "    <tr>\n",
       "      <th>2</th>\n",
       "      <td>1</td>\n",
       "      <td>1</td>\n",
       "      <td>-0.213710</td>\n",
       "      <td>0.69225</td>\n",
       "      <td>0.045672</td>\n",
       "      <td>-0.147941</td>\n",
       "      <td>0.479210</td>\n",
       "      <td>-0.009761</td>\n",
       "      <td>0.031616</td>\n",
       "      <td>-0.102412</td>\n",
       "      <td>...</td>\n",
       "      <td>0.015151</td>\n",
       "      <td>-0.049077</td>\n",
       "      <td>0.158970</td>\n",
       "      <td>9.526844e-05</td>\n",
       "      <td>-3.085938e-04</td>\n",
       "      <td>0.001000</td>\n",
       "      <td>-0.003238</td>\n",
       "      <td>0.010488</td>\n",
       "      <td>-0.033973</td>\n",
       "      <td>0.110047</td>\n",
       "    </tr>\n",
       "    <tr>\n",
       "      <th>3</th>\n",
       "      <td>1</td>\n",
       "      <td>1</td>\n",
       "      <td>-0.375000</td>\n",
       "      <td>0.50219</td>\n",
       "      <td>0.140625</td>\n",
       "      <td>-0.188321</td>\n",
       "      <td>0.252195</td>\n",
       "      <td>-0.052734</td>\n",
       "      <td>0.070620</td>\n",
       "      <td>-0.094573</td>\n",
       "      <td>...</td>\n",
       "      <td>0.017810</td>\n",
       "      <td>-0.023851</td>\n",
       "      <td>0.031940</td>\n",
       "      <td>2.780914e-03</td>\n",
       "      <td>-3.724126e-03</td>\n",
       "      <td>0.004987</td>\n",
       "      <td>-0.006679</td>\n",
       "      <td>0.008944</td>\n",
       "      <td>-0.011978</td>\n",
       "      <td>0.016040</td>\n",
       "    </tr>\n",
       "    <tr>\n",
       "      <th>4</th>\n",
       "      <td>1</td>\n",
       "      <td>1</td>\n",
       "      <td>-0.513250</td>\n",
       "      <td>0.46564</td>\n",
       "      <td>0.263426</td>\n",
       "      <td>-0.238990</td>\n",
       "      <td>0.216821</td>\n",
       "      <td>-0.135203</td>\n",
       "      <td>0.122661</td>\n",
       "      <td>-0.111283</td>\n",
       "      <td>...</td>\n",
       "      <td>0.026596</td>\n",
       "      <td>-0.024128</td>\n",
       "      <td>0.021890</td>\n",
       "      <td>1.827990e-02</td>\n",
       "      <td>-1.658422e-02</td>\n",
       "      <td>0.015046</td>\n",
       "      <td>-0.013650</td>\n",
       "      <td>0.012384</td>\n",
       "      <td>-0.011235</td>\n",
       "      <td>0.010193</td>\n",
       "    </tr>\n",
       "  </tbody>\n",
       "</table>\n",
       "<p>5 rows × 29 columns</p>\n",
       "</div>"
      ],
      "text/plain": [
       "   Admitted  ones       F10      F01       F20       F11       F02       F30  \\\n",
       "0         1     1  0.051267  0.69956  0.002628  0.035864  0.489384  0.000135   \n",
       "1         1     1 -0.092742  0.68494  0.008601 -0.063523  0.469143 -0.000798   \n",
       "2         1     1 -0.213710  0.69225  0.045672 -0.147941  0.479210 -0.009761   \n",
       "3         1     1 -0.375000  0.50219  0.140625 -0.188321  0.252195 -0.052734   \n",
       "4         1     1 -0.513250  0.46564  0.263426 -0.238990  0.216821 -0.135203   \n",
       "\n",
       "        F21       F12  ...       F23       F14       F05           F60  \\\n",
       "0  0.001839  0.025089  ...  0.000900  0.012278  0.167542  1.815630e-08   \n",
       "1  0.005891 -0.043509  ...  0.002764 -0.020412  0.150752  6.362953e-07   \n",
       "2  0.031616 -0.102412  ...  0.015151 -0.049077  0.158970  9.526844e-05   \n",
       "3  0.070620 -0.094573  ...  0.017810 -0.023851  0.031940  2.780914e-03   \n",
       "4  0.122661 -0.111283  ...  0.026596 -0.024128  0.021890  1.827990e-02   \n",
       "\n",
       "            F51       F42       F33       F24       F15       F06  \n",
       "0  2.477505e-07  0.000003  0.000046  0.000629  0.008589  0.117206  \n",
       "1 -4.699318e-06  0.000035 -0.000256  0.001893 -0.013981  0.103256  \n",
       "2 -3.085938e-04  0.001000 -0.003238  0.010488 -0.033973  0.110047  \n",
       "3 -3.724126e-03  0.004987 -0.006679  0.008944 -0.011978  0.016040  \n",
       "4 -1.658422e-02  0.015046 -0.013650  0.012384 -0.011235  0.010193  \n",
       "\n",
       "[5 rows x 29 columns]"
      ]
     },
     "execution_count": 105,
     "metadata": {},
     "output_type": "execute_result"
    }
   ],
   "source": [
    "exam1=data['Exam 1']\n",
    "exam2=data['Exam 2']\n",
    "data['ones']=1\n",
    "for i in range(1,7):\n",
    "    for j in range(0,i+1):\n",
    "        data['F'+str(i-j)+str(j)]=np.power(exam1,i-j)*np.power(exam2,j)\n",
    "data.drop(['Exam 1','Exam 2'],axis=1,inplace=True)\n",
    "data.head()"
   ]
  },
  {
   "cell_type": "code",
   "execution_count": 106,
   "id": "40866ba4",
   "metadata": {},
   "outputs": [
    {
     "name": "stdout",
     "output_type": "stream",
     "text": [
      "(118, 28) (118, 1) (28,)\n"
     ]
    }
   ],
   "source": [
    "X=np.array(data.iloc[:,1:data.shape[1]].values)\n",
    "Y=np.array(data.iloc[:,0:1].values)\n",
    "Theta=np.zeros(X.shape[1])\n",
    "learning_rate=1\n",
    "print(X.shape,Y.shape,Theta.shape)\n",
    "#print(X,Y,Theta)"
   ]
  },
  {
   "cell_type": "markdown",
   "id": "c2d40175",
   "metadata": {},
   "source": [
    "## 2.Sigmoid implementation\n",
    "$g(z)=\\frac{1}{1+e^{-z}}$  "
   ]
  },
  {
   "cell_type": "code",
   "execution_count": 107,
   "id": "272f43e4",
   "metadata": {},
   "outputs": [],
   "source": [
    "def Sigmoid(z):\n",
    "    return 1/(1+np.exp(-z))"
   ]
  },
  {
   "cell_type": "markdown",
   "id": "2ce390b3",
   "metadata": {},
   "source": [
    "## 3.Cost Function implementation\n",
    "$J(\\Theta) = -\\frac{1}{m} \\sum\\limits_{i=1}\\limits^{m} [y^{(i)}log(h_\\theta(x^{(i)}))+(1-y^{(i)})log(1-h_\\theta(x^{(i)}))]+\\frac{\\lambda}{2m}\\sum\\limits_{j=1}\\limits^{n}\\theta_j^2$  \n",
    "$J(\\Theta) = -\\frac{1}{m} [Y^Tlog(g(X\\Theta))+(1-Y)^Tlog(1-g(X\\Theta))]+\\frac{\\lambda}{2m}\\sum\\limits_{j=1}\\limits^{n}\\theta_j^2$  "
   ]
  },
  {
   "cell_type": "code",
   "execution_count": 108,
   "id": "eb8dd07b",
   "metadata": {},
   "outputs": [],
   "source": [
    "def CostFunction(Theta,X,Y,learning_rate):\n",
    "    Theta=np.mat(Theta).T\n",
    "    X=np.mat(X)\n",
    "    Y=np.mat(Y)\n",
    "    return (-(Y.T*np.log(Sigmoid(X*Theta))+(1-Y).T*np.log(1-Sigmoid(X*Theta)))/len(X))[0,0]+(learning_rate/(2*len(X)))*np.sum(np.power(Theta[1:Theta.shape[0],0],2))"
   ]
  },
  {
   "cell_type": "code",
   "execution_count": 109,
   "id": "75d8eb04",
   "metadata": {},
   "outputs": [
    {
     "name": "stdout",
     "output_type": "stream",
     "text": [
      "0.6931471805599453\n"
     ]
    }
   ],
   "source": [
    "print(CostFunction(Theta,X,Y,learning_rate))"
   ]
  },
  {
   "cell_type": "markdown",
   "id": "1a68ea3b",
   "metadata": {},
   "source": [
    "## 4.Gradient Descent\n",
    "Here we calculate the value of θ with the tool library.  \n",
    "we need to tell the function of tool library: Cost Function,$\\frac{\\partial}{\\partial{θ_j}}J(θ)$,arguments.  \n",
    "We don't need to define the number of iterations and learning rate, the function will directly tell us the optimal solution.  \n",
    "$\\frac{\\partial}{\\partial{θ_j}}J(θ)=\\begin{cases}\\frac{1}{m}\\sum\\limits_{i=1}\\limits^{m}[h_\\theta(x^{(i)})-y^{(i)}] \\cdot x_j^{(i)}~ ~ ~ &,j=0\\\\\\ \\frac{1}{m}\\sum\\limits_{i=1}\\limits^{m}[h_\\theta(x^{(i)})-y^{(i)}] \\cdot x_j^{(i)}+\\frac{\\lambda}{m}\\theta_j~ ~ ~ &,j\\neq0\\end{cases}$   "
   ]
  },
  {
   "cell_type": "code",
   "execution_count": 110,
   "id": "ebbaaf00",
   "metadata": {},
   "outputs": [],
   "source": [
    "def GetPartial(Theta,X,Y,learning_rate):\n",
    "    Theta=np.mat(Theta).T;X=np.mat(X);Y=np.mat(Y)\n",
    "    partial=np.zeros(X.shape[1])\n",
    "    error=Sigmoid(X*Theta)-Y\n",
    "    for i in range(X.shape[1]):\n",
    "        term=np.multiply(error,X[:,i])\n",
    "        if(i==0):\n",
    "            partial[i]=np.sum(term)/len(X)\n",
    "        else:\n",
    "            partial[i]=(np.sum(term)+learning_rate*Theta[i,0])/len(X)\n",
    "    return partial"
   ]
  },
  {
   "cell_type": "code",
   "execution_count": 111,
   "id": "955a253b",
   "metadata": {},
   "outputs": [
    {
     "name": "stdout",
     "output_type": "stream",
     "text": [
      "(array([ 1.27271027,  0.62529965,  1.18111686, -2.01987399, -0.9174319 ,\n",
      "       -1.43166929,  0.12393227, -0.36553118, -0.35725403, -0.17516292,\n",
      "       -1.4581701 , -0.05098418, -0.61558551, -0.27469165, -1.19271298,\n",
      "       -0.2421784 , -0.20603295, -0.04466178, -0.27778953, -0.29539513,\n",
      "       -0.45645982, -1.04319155,  0.02779373, -0.29244874,  0.01555761,\n",
      "       -0.32742407, -0.14389151, -0.92467487]), 32, 1)\n"
     ]
    }
   ],
   "source": [
    "result = opt.fmin_tnc(func=CostFunction, x0=Theta, fprime=GetPartial, args=(X,Y,learning_rate))\n",
    "\"\"\"\n",
    "func：function_name(return value)\n",
    "x0：array\n",
    "fprime:function_name(return array)\n",
    "args:tuple(array)\n",
    "\"\"\"\n",
    "print(result)"
   ]
  },
  {
   "cell_type": "markdown",
   "id": "9e210668",
   "metadata": {},
   "source": [
    "## 6.Evaluate"
   ]
  },
  {
   "cell_type": "code",
   "execution_count": 112,
   "id": "e9ec090c",
   "metadata": {},
   "outputs": [
    {
     "name": "stdout",
     "output_type": "stream",
     "text": [
      "0.8305084745762712\n"
     ]
    }
   ],
   "source": [
    "def predict(Theta, X):\n",
    "    Theta=np.mat(Theta).T;X=np.mat(X);P=Sigmoid(X*Theta)\n",
    "    return [1 if p >= 0.5 else 0 for p in P]\n",
    "\n",
    "theta_min = np.matrix(result[0])\n",
    "predictions = predict(theta_min, X)\n",
    "correct = [1 if ((a == 1 and b == 1) or (a == 0 and b == 0)) else 0 for (a, b) in zip(predictions, Y)]\n",
    "accuracy = sum(correct)/len(correct)\n",
    "print (accuracy)"
   ]
  },
  {
   "cell_type": "markdown",
   "id": "25871878",
   "metadata": {},
   "source": [
    "## Attachment 1:Decision Boundary"
   ]
  },
  {
   "cell_type": "code",
   "execution_count": 113,
   "id": "0c47d8e8",
   "metadata": {},
   "outputs": [],
   "source": [
    "def Compute_Z(Theta,x,y):\n",
    "    Res= Theta[0]\n",
    "    index= 1\n",
    "    for i in range(1, 7):\n",
    "        for j in range(0, i+1):\n",
    "            Res+= np.power(x, i-j) * np.power(y, j) * Theta[index];index+=1\n",
    "    return Res"
   ]
  },
  {
   "cell_type": "code",
   "execution_count": 114,
   "id": "a27b05e4",
   "metadata": {},
   "outputs": [],
   "source": [
    "def find_decision_boundary(Theta):\n",
    "    x = np.linspace(-1, 1.5, 1000);y = np.linspace(-1, 1.5, 1000)\n",
    "    x,y=np.meshgrid(x,y)\n",
    "    x=x.flatten('F');y=y.flatten('F')\n",
    "    val = pd.DataFrame({'x':x, 'y':y})\n",
    "    val['Res'] = Compute_Z(Theta, val['x'], val['y'])\n",
    "    decision = val[np.abs(val['Res'])<2 * 10**-3]\n",
    "    return decision.x, decision.y"
   ]
  },
  {
   "cell_type": "code",
   "execution_count": 115,
   "id": "5a360fc8",
   "metadata": {},
   "outputs": [
    {
     "data": {
      "image/png": "[encoded data removed]",
      "text/plain": [
       "<Figure size 864x576 with 1 Axes>"
      ]
     },
     "metadata": {
      "needs_background": "light"
     },
     "output_type": "display_data"
    }
   ],
   "source": [
    "positive2 = data[data['Admitted']==1];negative2 = data[data['Admitted']==0]\n",
    "plt.figure(figsize=(12,8))\n",
    "plt.scatter(positive2['F10'], positive2['F01'],c='b', marker='o', label='Accepted')\n",
    "plt.scatter(negative2['F10'], negative2['F01'], c='r', marker='x', label='Rejected')\n",
    "\n",
    "x, y = find_decision_boundary(result[0])\n",
    "plt.scatter(x, y, c='y', s=10, label='Prediction')\n",
    "plt.legend()\n",
    "plt.xlabel('Exam 1 Score')\n",
    "plt.ylabel('Exam 2 Score')\n",
    "plt.show()"
   ]
  },
  {
   "cell_type": "markdown",
   "id": "41c3775a",
   "metadata": {},
   "source": [
    "## Attachment 2:Overfit"
   ]
  },
  {
   "cell_type": "code",
   "execution_count": 116,
   "id": "82de67b4",
   "metadata": {},
   "outputs": [
    {
     "name": "stdout",
     "output_type": "stream",
     "text": [
      "(array([ 1.22751664e+01,  1.56101161e+01,  7.48307264e+00, -1.31280763e+02,\n",
      "       -6.70555567e+01, -4.01877416e+01, -1.28286673e+02, -1.19604377e+02,\n",
      "       -3.95407810e+01,  1.03205227e+01,  4.75739518e+02,  4.35191845e+02,\n",
      "        4.91202951e+02,  1.93924282e+02,  3.04494256e+01,  2.34237141e+02,\n",
      "        3.67320671e+02,  3.81546469e+02,  1.89777486e+02,  1.01881669e+01,\n",
      "       -2.77517053e+01, -5.58763117e+02, -7.60298662e+02, -1.03771075e+03,\n",
      "       -7.47145919e+02, -5.87183017e+02, -1.83696282e+02, -1.03453752e-01]), 280, 3)\n"
     ]
    }
   ],
   "source": [
    "learning_rate = 0\n",
    "result2 = opt.fmin_tnc(func=CostFunction, x0=Theta, fprime=GetPartial, args=(X,Y,learning_rate))\n",
    "print(result2)"
   ]
  },
  {
   "cell_type": "code",
   "execution_count": 117,
   "id": "3650a3e3",
   "metadata": {},
   "outputs": [
    {
     "data": {
      "image/png": "[encoded data removed]",
      "text/plain": [
       "<Figure size 864x576 with 1 Axes>"
      ]
     },
     "metadata": {
      "needs_background": "light"
     },
     "output_type": "display_data"
    }
   ],
   "source": [
    "positive2 = data[data['Admitted']==1];negative2 = data[data['Admitted']==0]\n",
    "plt.figure(figsize=(12,8))\n",
    "plt.scatter(positive2['F10'], positive2['F01'],c='b', marker='o', label='Accepted')\n",
    "plt.scatter(negative2['F10'], negative2['F01'], c='r', marker='x', label='Rejected')\n",
    "\n",
    "x, y = find_decision_boundary(result2[0])\n",
    "plt.scatter(x, y, c='y', s=10, label='Prediction')\n",
    "plt.legend()\n",
    "plt.xlabel('Exam 1 Score')\n",
    "plt.ylabel('Exam 2 Score')\n",
    "plt.show()"
   ]
  },
  {
   "cell_type": "markdown",
   "id": "16337872",
   "metadata": {},
   "source": [
    "## Attachment 3:Underfit"
   ]
  },
  {
   "cell_type": "code",
   "execution_count": 118,
   "id": "c3c61670",
   "metadata": {},
   "outputs": [
    {
     "name": "stdout",
     "output_type": "stream",
     "text": [
      "(array([ 0.02187847, -0.0174817 ,  0.00571065, -0.05516901, -0.01314874,\n",
      "       -0.03859873, -0.01846356, -0.00773219, -0.00892429, -0.02280461,\n",
      "       -0.04343846, -0.00235623, -0.01415612, -0.00349507, -0.04143595,\n",
      "       -0.02100593, -0.00471917, -0.00359131, -0.00632226, -0.0050244 ,\n",
      "       -0.03197683, -0.03416334, -0.00107629, -0.00702615, -0.00038507,\n",
      "       -0.0079823 , -0.00154779, -0.04108683]), 11, 1)\n"
     ]
    }
   ],
   "source": [
    "learning_rate = 100\n",
    "result3 = opt.fmin_tnc(func=CostFunction, x0=Theta, fprime=GetPartial, args=(X,Y,learning_rate))\n",
    "print(result3)"
   ]
  },
  {
   "cell_type": "code",
   "execution_count": 119,
   "id": "af49640d",
   "metadata": {},
   "outputs": [
    {
     "data": {
      "image/png": "[encoded data removed]",
      "text/plain": [
       "<Figure size 864x576 with 1 Axes>"
      ]
     },
     "metadata": {
      "needs_background": "light"
     },
     "output_type": "display_data"
    }
   ],
   "source": [
    "positive2 = data[data['Admitted']==1];negative2 = data[data['Admitted']==0]\n",
    "plt.figure(figsize=(12,8))\n",
    "plt.scatter(positive2['F10'], positive2['F01'],c='b', marker='o', label='Accepted')\n",
    "plt.scatter(negative2['F10'], negative2['F01'], c='r', marker='x', label='Rejected')\n",
    "\n",
    "x, y = find_decision_boundary(result3[0])\n",
    "plt.scatter(x, y, c='y', s=10, label='Prediction')\n",
    "plt.legend()\n",
    "plt.xlabel('Exam 1 Score')\n",
    "plt.ylabel('Exam 2 Score')\n",
    "plt.show()"
   ]
  }
 ],
 "metadata": {
  "kernelspec": {
   "display_name": "Python 3 (ipykernel)",
   "language": "python",
   "name": "python3"
  },
  "language_info": {
   "codemirror_mode": {
    "name": "ipython",
    "version": 3
   },
   "file_extension": ".py",
   "mimetype": "text/x-python",
   "name": "python",
   "nbconvert_exporter": "python",
   "pygments_lexer": "ipython3",
   "version": "3.9.12"
  }
 },
 "nbformat": 4,
 "nbformat_minor": 5
}
