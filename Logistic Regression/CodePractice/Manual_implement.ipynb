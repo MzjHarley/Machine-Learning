{
 "cells": [
  {
   "cell_type": "code",
   "execution_count": 14,
   "id": "98db3c46",
   "metadata": {},
   "outputs": [],
   "source": [
    "import numpy as np\n",
    "import pandas as pd \n",
    "import matplotlib.pyplot as plt\n",
    "import scipy.optimize as opt"
   ]
  },
  {
   "cell_type": "markdown",
   "id": "347fbdcd",
   "metadata": {},
   "source": [
    "## 1.Read and Display"
   ]
  },
  {
   "cell_type": "code",
   "execution_count": 15,
   "id": "e4d11660",
   "metadata": {},
   "outputs": [
    {
     "data": {
      "text/html": [
       "<div>\n",
       "<style scoped>\n",
       "    .dataframe tbody tr th:only-of-type {\n",
       "        vertical-align: middle;\n",
       "    }\n",
       "\n",
       "    .dataframe tbody tr th {\n",
       "        vertical-align: top;\n",
       "    }\n",
       "\n",
       "    .dataframe thead th {\n",
       "        text-align: right;\n",
       "    }\n",
       "</style>\n",
       "<table border=\"1\" class=\"dataframe\">\n",
       "  <thead>\n",
       "    <tr style=\"text-align: right;\">\n",
       "      <th></th>\n",
       "      <th>Exam 1</th>\n",
       "      <th>Exam 2</th>\n",
       "      <th>Admitted</th>\n",
       "    </tr>\n",
       "  </thead>\n",
       "  <tbody>\n",
       "    <tr>\n",
       "      <th>0</th>\n",
       "      <td>34.623660</td>\n",
       "      <td>78.024693</td>\n",
       "      <td>0</td>\n",
       "    </tr>\n",
       "    <tr>\n",
       "      <th>1</th>\n",
       "      <td>30.286711</td>\n",
       "      <td>43.894998</td>\n",
       "      <td>0</td>\n",
       "    </tr>\n",
       "    <tr>\n",
       "      <th>2</th>\n",
       "      <td>35.847409</td>\n",
       "      <td>72.902198</td>\n",
       "      <td>0</td>\n",
       "    </tr>\n",
       "    <tr>\n",
       "      <th>3</th>\n",
       "      <td>60.182599</td>\n",
       "      <td>86.308552</td>\n",
       "      <td>1</td>\n",
       "    </tr>\n",
       "    <tr>\n",
       "      <th>4</th>\n",
       "      <td>79.032736</td>\n",
       "      <td>75.344376</td>\n",
       "      <td>1</td>\n",
       "    </tr>\n",
       "  </tbody>\n",
       "</table>\n",
       "</div>"
      ],
      "text/plain": [
       "      Exam 1     Exam 2  Admitted\n",
       "0  34.623660  78.024693         0\n",
       "1  30.286711  43.894998         0\n",
       "2  35.847409  72.902198         0\n",
       "3  60.182599  86.308552         1\n",
       "4  79.032736  75.344376         1"
      ]
     },
     "execution_count": 15,
     "metadata": {},
     "output_type": "execute_result"
    }
   ],
   "source": [
    "data = pd.read_csv(\"../Data/data.txt\", header=None, names=['Exam 1', 'Exam 2', 'Admitted'])\n",
    "data.head()"
   ]
  },
  {
   "cell_type": "code",
   "execution_count": 16,
   "id": "f848fef3",
   "metadata": {},
   "outputs": [
    {
     "data": {
      "image/png": "[encoded data removed]",
      "text/plain": [
       "<Figure size 864x576 with 1 Axes>"
      ]
     },
     "metadata": {
      "needs_background": "light"
     },
     "output_type": "display_data"
    }
   ],
   "source": [
    "positive = data[data['Admitted']==1]\n",
    "negative = data[data['Admitted']==0]\n",
    "plt.figure(figsize=(12,8))\n",
    "plt.scatter(positive['Exam 1'], positive['Exam 2'], c='b',marker='o')\n",
    "plt.scatter(negative['Exam 1'], negative['Exam 2'], c='r',marker='x')\n",
    "plt.legend(['Admitted','Not Admitted'])\n",
    "plt.xlabel('Exam 1 Score')\n",
    "plt.ylabel('Exam 2 Score')\n",
    "plt.show()"
   ]
  },
  {
   "cell_type": "code",
   "execution_count": 17,
   "id": "fc0b6ed5",
   "metadata": {},
   "outputs": [
    {
     "name": "stdout",
     "output_type": "stream",
     "text": [
      "(100, 3) (3,) (100, 1)\n"
     ]
    }
   ],
   "source": [
    "data.insert(0, 'Ones', 1)\n",
    "cols = data.shape[1]\n",
    "X = np.array(data.iloc[:,0:cols-1].values)\n",
    "Y =np.array(data.iloc[:,cols-1:cols].values)\n",
    "Theta =np.zeros(3)\n",
    "print(X.shape, Theta.shape, Y.shape)"
   ]
  },
  {
   "cell_type": "markdown",
   "id": "0d56c060",
   "metadata": {},
   "source": [
    "## 2.sigmoid implementation\n",
    "$h_\\theta(x)=g(x\\Theta)$   \n",
    "$z=x\\Theta$  \n",
    "$g(z)=\\frac{1}{1+e^{-z}}$  "
   ]
  },
  {
   "cell_type": "code",
   "execution_count": 18,
   "id": "d2509af7",
   "metadata": {},
   "outputs": [],
   "source": [
    "def Sigmoid(z):\n",
    "    return 1/(1+np.exp(-z))"
   ]
  },
  {
   "cell_type": "markdown",
   "id": "7f3e5fc3",
   "metadata": {},
   "source": [
    "## 3.Cost Function implementation\n",
    "$J(\\Theta) = -\\frac{1}{m} \\sum\\limits_{i=1}\\limits^{m} [y^{(i)}log(h_\\theta(x^{(i)}))+(1-y^{(i)})log(1-h_\\theta(x^{(i)}))]$  \n",
    "$J(\\Theta) = -\\frac{1}{m} [Y^Tlog(g(X\\Theta))+(1-Y)^Tlog(1-g(X\\Theta))]$  "
   ]
  },
  {
   "cell_type": "code",
   "execution_count": 19,
   "id": "b6786fcd",
   "metadata": {},
   "outputs": [],
   "source": [
    "def CostFunction(Theta,X,Y):\n",
    "    Theta=np.mat(Theta).T\n",
    "    X=np.mat(X)\n",
    "    Y=np.mat(Y)   \n",
    "    return (-(Y.T*np.log(Sigmoid(X*Theta))+(1-Y).T*np.log(1-Sigmoid(X*Theta)))/len(X))[0,0]"
   ]
  },
  {
   "cell_type": "markdown",
   "id": "aa5e86d6",
   "metadata": {},
   "source": [
    "## 4.Gradient Descent\n",
    "Here we calculate the value of θ with the tool library.  \n",
    "we need to tell the function of tool library: Cost Function,$\\frac{\\partial}{\\partial{θ_j}}J(θ)$,arguments.  \n",
    "We don't need to define the number of iterations and learning rate, the function will directly tell us the optimal solution.  \n",
    "$\\frac{\\partial}{\\partial{θ_j}}J(θ)=\\sum\\limits_{i=1}\\limits^{m}[h_\\theta(x^{(i)})-y^{(i)}] \\cdot x_j^{(i)} ~ ~ ~ ,j=0,\\cdots,n$   \n",
    "$\\frac{\\partial}{\\partial{θ_j}}J(θ)=X^T(g(X\\Theta)-Y)$  "
   ]
  },
  {
   "cell_type": "code",
   "execution_count": 20,
   "id": "054a07f2",
   "metadata": {},
   "outputs": [],
   "source": [
    "def GetPartial(Theta,X,Y):\n",
    "    Theta=np.mat(Theta).T\n",
    "    X=np.mat(X)\n",
    "    Y=np.mat(Y)\n",
    "    return np.array(X.T*(Sigmoid(X*Theta)-Y))[:,0]"
   ]
  },
  {
   "cell_type": "code",
   "execution_count": 21,
   "id": "5a3c2888",
   "metadata": {},
   "outputs": [
    {
     "name": "stdout",
     "output_type": "stream",
     "text": [
      "0.6931471805599452\n"
     ]
    }
   ],
   "source": [
    "print(CostFunction(Theta,X,Y))"
   ]
  },
  {
   "cell_type": "code",
   "execution_count": 22,
   "id": "85bef5c5",
   "metadata": {},
   "outputs": [
    {
     "name": "stdout",
     "output_type": "stream",
     "text": [
      "(array([-25.17486453,   0.20633653,   0.20158463]), 74, 1)\n"
     ]
    }
   ],
   "source": [
    "result = opt.fmin_tnc(func=CostFunction, x0=Theta, fprime=GetPartial, args=(X,Y))\n",
    "\"\"\"\n",
    "func：function_name(return value)\n",
    "x0：array\n",
    "fprime:function_name(return array)\n",
    "args:tuple(array)\n",
    "\"\"\"\n",
    "print(result)"
   ]
  },
  {
   "cell_type": "code",
   "execution_count": 23,
   "id": "bd3d8014",
   "metadata": {},
   "outputs": [
    {
     "name": "stdout",
     "output_type": "stream",
     "text": [
      "0.2034977292152026\n"
     ]
    }
   ],
   "source": [
    "print(CostFunction(result[0],X,Y))"
   ]
  },
  {
   "cell_type": "markdown",
   "id": "89b27c3d",
   "metadata": {},
   "source": [
    "## 5.Predict"
   ]
  },
  {
   "cell_type": "code",
   "execution_count": 26,
   "id": "4b59ca85",
   "metadata": {},
   "outputs": [
    {
     "name": "stdout",
     "output_type": "stream",
     "text": [
      "0.7764284194853233\n"
     ]
    }
   ],
   "source": [
    "def predict1(Theta, X):\n",
    "    Theta=np.mat(Theta).T\n",
    "    X=np.mat(X)\n",
    "    return Sigmoid(X*Theta)[0,0]\n",
    "print(predict1(result[0],[1,45,85]))"
   ]
  },
  {
   "cell_type": "markdown",
   "id": "7e5c1be2",
   "metadata": {},
   "source": [
    "## 6.Evaluate"
   ]
  },
  {
   "cell_type": "code",
   "execution_count": 28,
   "id": "b3be18c2",
   "metadata": {},
   "outputs": [
    {
     "name": "stdout",
     "output_type": "stream",
     "text": [
      "0.89\n"
     ]
    }
   ],
   "source": [
    "def predict2(Theta, X):\n",
    "    Theta=np.mat(Theta).T\n",
    "    X=np.mat(X)\n",
    "    P=Sigmoid(X*Theta)\n",
    "    return [1 if p >= 0.5 else 0 for p in P]\n",
    "predictions = predict2(result[0], X)\n",
    "correct = [1 if ((a == 1 and b == 1) or (a == 0 and b == 0)) else 0 for (a, b) in zip(predictions, Y)]\n",
    "accuracy =sum(correct) / len(correct)\n",
    "print (accuracy)"
   ]
  },
  {
   "cell_type": "markdown",
   "id": "38dfcaeb",
   "metadata": {},
   "source": [
    "## Attachment 1:Decision Boundary"
   ]
  },
  {
   "cell_type": "code",
   "execution_count": 32,
   "id": "c014ca80",
   "metadata": {},
   "outputs": [
    {
     "data": {
      "image/png": "[encoded data removed]",
      "text/plain": [
       "<Figure size 864x576 with 1 Axes>"
      ]
     },
     "metadata": {
      "needs_background": "light"
     },
     "output_type": "display_data"
    }
   ],
   "source": [
    "predict_Exam1 = np.linspace(30, 100, 100)\n",
    "predict_Exam2 = ( - result[0][0] - result[0][1] *predict_Exam1) / result[0][2]\n",
    "plt.figure(figsize=(12,8))\n",
    "plt.plot(predict_Exam1, predict_Exam2, 'y', label='Decision Boundary')\n",
    "plt.scatter(positive['Exam 1'], positive['Exam 2'], c='b', marker='o', label='Admitted')\n",
    "plt.scatter(negative['Exam 1'], negative['Exam 2'], c='r', marker='x', label='Not Admitted')\n",
    "plt.legend()\n",
    "plt.xlabel('Exam 1 Score')\n",
    "plt.ylabel('Exam 2 Score')\n",
    "plt.show()"
   ]
  }
 ],
 "metadata": {
  "kernelspec": {
   "display_name": "Python 3 (ipykernel)",
   "language": "python",
   "name": "python3"
  },
  "language_info": {
   "codemirror_mode": {
    "name": "ipython",
    "version": 3
   },
   "file_extension": ".py",
   "mimetype": "text/x-python",
   "name": "python",
   "nbconvert_exporter": "python",
   "pygments_lexer": "ipython3",
   "version": "3.9.12"
  }
 },
 "nbformat": 4,
 "nbformat_minor": 5
}
