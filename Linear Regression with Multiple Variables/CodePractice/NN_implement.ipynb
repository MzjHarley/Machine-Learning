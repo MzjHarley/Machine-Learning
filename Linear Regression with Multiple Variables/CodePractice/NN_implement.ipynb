{
 "cells": [
  {
   "cell_type": "code",
   "execution_count": 1,
   "id": "7f56b2e9",
   "metadata": {},
   "outputs": [],
   "source": [
    "import tensorflow as tf\n",
    "import pandas as pd "
   ]
  },
  {
   "cell_type": "code",
   "execution_count": 2,
   "id": "6eb122cd",
   "metadata": {},
   "outputs": [
    {
     "data": {
      "text/html": [
       "<div>\n",
       "<style scoped>\n",
       "    .dataframe tbody tr th:only-of-type {\n",
       "        vertical-align: middle;\n",
       "    }\n",
       "\n",
       "    .dataframe tbody tr th {\n",
       "        vertical-align: top;\n",
       "    }\n",
       "\n",
       "    .dataframe thead th {\n",
       "        text-align: right;\n",
       "    }\n",
       "</style>\n",
       "<table border=\"1\" class=\"dataframe\">\n",
       "  <thead>\n",
       "    <tr style=\"text-align: right;\">\n",
       "      <th></th>\n",
       "      <th>Size</th>\n",
       "      <th>Bedrooms</th>\n",
       "      <th>Price</th>\n",
       "    </tr>\n",
       "  </thead>\n",
       "  <tbody>\n",
       "    <tr>\n",
       "      <th>0</th>\n",
       "      <td>0.130010</td>\n",
       "      <td>-0.223675</td>\n",
       "      <td>0.475747</td>\n",
       "    </tr>\n",
       "    <tr>\n",
       "      <th>1</th>\n",
       "      <td>-0.504190</td>\n",
       "      <td>-0.223675</td>\n",
       "      <td>-0.084074</td>\n",
       "    </tr>\n",
       "    <tr>\n",
       "      <th>2</th>\n",
       "      <td>0.502476</td>\n",
       "      <td>-0.223675</td>\n",
       "      <td>0.228626</td>\n",
       "    </tr>\n",
       "    <tr>\n",
       "      <th>3</th>\n",
       "      <td>-0.735723</td>\n",
       "      <td>-1.537767</td>\n",
       "      <td>-0.867025</td>\n",
       "    </tr>\n",
       "    <tr>\n",
       "      <th>4</th>\n",
       "      <td>1.257476</td>\n",
       "      <td>1.090417</td>\n",
       "      <td>1.595389</td>\n",
       "    </tr>\n",
       "  </tbody>\n",
       "</table>\n",
       "</div>"
      ],
      "text/plain": [
       "       Size  Bedrooms     Price\n",
       "0  0.130010 -0.223675  0.475747\n",
       "1 -0.504190 -0.223675 -0.084074\n",
       "2  0.502476 -0.223675  0.228626\n",
       "3 -0.735723 -1.537767 -0.867025\n",
       "4  1.257476  1.090417  1.595389"
      ]
     },
     "execution_count": 2,
     "metadata": {},
     "output_type": "execute_result"
    }
   ],
   "source": [
    "data=pd.read_csv(\"../Data/data2.txt\", header=None, names=['Size', 'Bedrooms', 'Price'])\n",
    "data = (data - data.mean()) / data.std()\n",
    "data.head()"
   ]
  },
  {
   "cell_type": "code",
   "execution_count": 3,
   "id": "fa833d97",
   "metadata": {},
   "outputs": [],
   "source": [
    "x=data.iloc[:,:-1]\n",
    "y=data.iloc[:,-1]"
   ]
  },
  {
   "cell_type": "code",
   "execution_count": 4,
   "id": "4b22abf0",
   "metadata": {},
   "outputs": [],
   "source": [
    "model =tf.keras.Sequential([tf.keras.layers.Dense(10,input_shape=(2,),activation='relu'),\n",
    "                           tf.keras.layers.Dense(1)]\n",
    ")"
   ]
  },
  {
   "cell_type": "code",
   "execution_count": 5,
   "id": "a12656f0",
   "metadata": {},
   "outputs": [
    {
     "name": "stdout",
     "output_type": "stream",
     "text": [
      "Model: \"sequential\"\n",
      "_________________________________________________________________\n",
      "Layer (type)                 Output Shape              Param #   \n",
      "=================================================================\n",
      "dense (Dense)                (None, 10)                30        \n",
      "_________________________________________________________________\n",
      "dense_1 (Dense)              (None, 1)                 11        \n",
      "=================================================================\n",
      "Total params: 41\n",
      "Trainable params: 41\n",
      "Non-trainable params: 0\n",
      "_________________________________________________________________\n"
     ]
    }
   ],
   "source": [
    "model.summary()"
   ]
  },
  {
   "cell_type": "code",
   "execution_count": 6,
   "id": "1e544771",
   "metadata": {},
   "outputs": [],
   "source": [
    "model.compile(optimizer='adam',\n",
    "              loss='mse'\n",
    ")"
   ]
  },
  {
   "cell_type": "code",
   "execution_count": 8,
   "id": "5f706621",
   "metadata": {},
   "outputs": [
    {
     "data": {
      "text/plain": [
       "<tensorflow.python.keras.callbacks.History at 0x1c98d070ec8>"
      ]
     },
     "execution_count": 8,
     "metadata": {},
     "output_type": "execute_result"
    }
   ],
   "source": [
    "model.fit(x,y,epochs=10000,verbose=0)"
   ]
  },
  {
   "cell_type": "code",
   "execution_count": 9,
   "id": "2bf5423d",
   "metadata": {},
   "outputs": [
    {
     "data": {
      "text/plain": [
       "array([[ 0.42121446],\n",
       "       [-0.4949773 ],\n",
       "       [ 0.43341005],\n",
       "       [-0.4846936 ],\n",
       "       [ 1.7738333 ],\n",
       "       [-0.43191856],\n",
       "       [-0.5354961 ],\n",
       "       [-0.601186  ],\n",
       "       [-0.6300406 ],\n",
       "       [-0.5600531 ],\n",
       "       [-0.513858  ],\n",
       "       [ 0.14027971],\n",
       "       [-0.1568628 ],\n",
       "       [ 2.6371553 ],\n",
       "       [-0.6987999 ],\n",
       "       [ 0.16494763],\n",
       "       [-0.55779546],\n",
       "       [-0.71692413],\n",
       "       [ 0.8576708 ],\n",
       "       [ 1.8386385 ],\n",
       "       [-0.39245218],\n",
       "       [-0.35265923],\n",
       "       [-0.49252158],\n",
       "       [-0.4737988 ],\n",
       "       [ 1.732935  ],\n",
       "       [-0.78463167],\n",
       "       [-0.5821544 ],\n",
       "       [ 0.43637788],\n",
       "       [ 0.523314  ],\n",
       "       [ 0.63088214],\n",
       "       [-0.3306327 ],\n",
       "       [-1.2371502 ],\n",
       "       [-0.33177024],\n",
       "       [ 1.5070274 ],\n",
       "       [-0.46222168],\n",
       "       [-0.59504676],\n",
       "       [-0.71634537],\n",
       "       [-0.16424966],\n",
       "       [ 2.1942298 ],\n",
       "       [-0.10948622],\n",
       "       [-0.25973958],\n",
       "       [ 0.50623226],\n",
       "       [ 0.6959173 ],\n",
       "       [-0.72387034],\n",
       "       [-1.2700667 ],\n",
       "       [-0.4454431 ],\n",
       "       [-0.7232912 ]], dtype=float32)"
      ]
     },
     "execution_count": 9,
     "metadata": {},
     "output_type": "execute_result"
    }
   ],
   "source": [
    "model.predict(data.iloc[:,:-1])"
   ]
  },
  {
   "cell_type": "code",
   "execution_count": 11,
   "id": "313ed818",
   "metadata": {},
   "outputs": [
    {
     "name": "stdout",
     "output_type": "stream",
     "text": [
      "[array([[ 0.6118472 ,  0.75846255, -0.31721097, -0.3405634 ,  1.3842024 ,\n",
      "         0.74064547, -1.0356966 ,  0.30191758, -1.2547704 , -0.9829128 ],\n",
      "       [-0.41011134, -0.6248741 ,  0.49611124, -0.4224921 ,  0.74203604,\n",
      "         0.9173909 ,  0.9035194 , -0.10955309,  0.5642059 ,  0.7079117 ]],\n",
      "      dtype=float32), array([ 0.49421963, -0.3053852 , -0.21265453,  0.39484543, -0.7018655 ,\n",
      "       -0.8550198 ,  0.35825726,  0.05848184,  0.34507227, -0.07004342],\n",
      "      dtype=float32), array([[ 0.54678845],\n",
      "       [-1.32173   ],\n",
      "       [-1.155357  ],\n",
      "       [-0.52080625],\n",
      "       [ 1.2641097 ],\n",
      "       [-1.3228179 ],\n",
      "       [-0.4087982 ],\n",
      "       [ 0.4416098 ],\n",
      "       [-0.8591905 ],\n",
      "       [ 1.55203   ]], dtype=float32), array([0.2918275], dtype=float32)]\n"
     ]
    }
   ],
   "source": [
    "print(model.get_weights())"
   ]
  }
 ],
 "metadata": {
  "kernelspec": {
   "display_name": "Python [conda env:code] *",
   "language": "python",
   "name": "conda-env-code-py"
  },
  "language_info": {
   "codemirror_mode": {
    "name": "ipython",
    "version": 3
   },
   "file_extension": ".py",
   "mimetype": "text/x-python",
   "name": "python",
   "nbconvert_exporter": "python",
   "pygments_lexer": "ipython3",
   "version": "3.7.13"
  }
 },
 "nbformat": 4,
 "nbformat_minor": 5
}
