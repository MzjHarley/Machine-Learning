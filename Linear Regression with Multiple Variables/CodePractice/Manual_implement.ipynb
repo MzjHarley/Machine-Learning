{
 "cells": [
  {
   "cell_type": "markdown",
   "id": "acd8a65a",
   "metadata": {},
   "source": [
    "# Predict house price \n",
    "The data is located in \"./Data/data2.txt\", the first column is the house size, the second column is the number of bedrooms, and the third column is the house price."
   ]
  },
  {
   "cell_type": "code",
   "execution_count": 5,
   "id": "670ce168",
   "metadata": {},
   "outputs": [],
   "source": [
    "import numpy as np\n",
    "import pandas as pd\n",
    "import matplotlib.pyplot as plt"
   ]
  },
  {
   "cell_type": "markdown",
   "id": "659d2e41",
   "metadata": {},
   "source": [
    "## 1.Read"
   ]
  },
  {
   "cell_type": "code",
   "execution_count": 6,
   "id": "a04e3837",
   "metadata": {},
   "outputs": [
    {
     "data": {
      "text/html": [
       "<div>\n",
       "<style scoped>\n",
       "    .dataframe tbody tr th:only-of-type {\n",
       "        vertical-align: middle;\n",
       "    }\n",
       "\n",
       "    .dataframe tbody tr th {\n",
       "        vertical-align: top;\n",
       "    }\n",
       "\n",
       "    .dataframe thead th {\n",
       "        text-align: right;\n",
       "    }\n",
       "</style>\n",
       "<table border=\"1\" class=\"dataframe\">\n",
       "  <thead>\n",
       "    <tr style=\"text-align: right;\">\n",
       "      <th></th>\n",
       "      <th>Size</th>\n",
       "      <th>Bedrooms</th>\n",
       "      <th>Price</th>\n",
       "    </tr>\n",
       "  </thead>\n",
       "  <tbody>\n",
       "    <tr>\n",
       "      <th>0</th>\n",
       "      <td>2104</td>\n",
       "      <td>3</td>\n",
       "      <td>399900</td>\n",
       "    </tr>\n",
       "    <tr>\n",
       "      <th>1</th>\n",
       "      <td>1600</td>\n",
       "      <td>3</td>\n",
       "      <td>329900</td>\n",
       "    </tr>\n",
       "    <tr>\n",
       "      <th>2</th>\n",
       "      <td>2400</td>\n",
       "      <td>3</td>\n",
       "      <td>369000</td>\n",
       "    </tr>\n",
       "    <tr>\n",
       "      <th>3</th>\n",
       "      <td>1416</td>\n",
       "      <td>2</td>\n",
       "      <td>232000</td>\n",
       "    </tr>\n",
       "    <tr>\n",
       "      <th>4</th>\n",
       "      <td>3000</td>\n",
       "      <td>4</td>\n",
       "      <td>539900</td>\n",
       "    </tr>\n",
       "  </tbody>\n",
       "</table>\n",
       "</div>"
      ],
      "text/plain": [
       "   Size  Bedrooms   Price\n",
       "0  2104         3  399900\n",
       "1  1600         3  329900\n",
       "2  2400         3  369000\n",
       "3  1416         2  232000\n",
       "4  3000         4  539900"
      ]
     },
     "execution_count": 6,
     "metadata": {},
     "output_type": "execute_result"
    }
   ],
   "source": [
    "data = pd.read_csv(\"../Data/data2.txt\", header=None, names=['Size', 'Bedrooms', 'Price'])\n",
    "data.head()"
   ]
  },
  {
   "cell_type": "markdown",
   "id": "a47443cd",
   "metadata": {},
   "source": [
    "# 2.Mean variance normalization  \n",
    "  \n",
    "$x_i=\\frac{(x_i-\\mu_i)}{\\sigma_i}$"
   ]
  },
  {
   "cell_type": "code",
   "execution_count": 7,
   "id": "4e5b9ca6",
   "metadata": {},
   "outputs": [
    {
     "data": {
      "text/html": [
       "<div>\n",
       "<style scoped>\n",
       "    .dataframe tbody tr th:only-of-type {\n",
       "        vertical-align: middle;\n",
       "    }\n",
       "\n",
       "    .dataframe tbody tr th {\n",
       "        vertical-align: top;\n",
       "    }\n",
       "\n",
       "    .dataframe thead th {\n",
       "        text-align: right;\n",
       "    }\n",
       "</style>\n",
       "<table border=\"1\" class=\"dataframe\">\n",
       "  <thead>\n",
       "    <tr style=\"text-align: right;\">\n",
       "      <th></th>\n",
       "      <th>Size</th>\n",
       "      <th>Bedrooms</th>\n",
       "      <th>Price</th>\n",
       "    </tr>\n",
       "  </thead>\n",
       "  <tbody>\n",
       "    <tr>\n",
       "      <th>0</th>\n",
       "      <td>0.130010</td>\n",
       "      <td>-0.223675</td>\n",
       "      <td>0.475747</td>\n",
       "    </tr>\n",
       "    <tr>\n",
       "      <th>1</th>\n",
       "      <td>-0.504190</td>\n",
       "      <td>-0.223675</td>\n",
       "      <td>-0.084074</td>\n",
       "    </tr>\n",
       "    <tr>\n",
       "      <th>2</th>\n",
       "      <td>0.502476</td>\n",
       "      <td>-0.223675</td>\n",
       "      <td>0.228626</td>\n",
       "    </tr>\n",
       "    <tr>\n",
       "      <th>3</th>\n",
       "      <td>-0.735723</td>\n",
       "      <td>-1.537767</td>\n",
       "      <td>-0.867025</td>\n",
       "    </tr>\n",
       "    <tr>\n",
       "      <th>4</th>\n",
       "      <td>1.257476</td>\n",
       "      <td>1.090417</td>\n",
       "      <td>1.595389</td>\n",
       "    </tr>\n",
       "  </tbody>\n",
       "</table>\n",
       "</div>"
      ],
      "text/plain": [
       "       Size  Bedrooms     Price\n",
       "0  0.130010 -0.223675  0.475747\n",
       "1 -0.504190 -0.223675 -0.084074\n",
       "2  0.502476 -0.223675  0.228626\n",
       "3 -0.735723 -1.537767 -0.867025\n",
       "4  1.257476  1.090417  1.595389"
      ]
     },
     "execution_count": 7,
     "metadata": {},
     "output_type": "execute_result"
    }
   ],
   "source": [
    "data = (data - data.mean()) / data.std()\n",
    "data.head()"
   ]
  },
  {
   "cell_type": "markdown",
   "id": "055c0d63",
   "metadata": {},
   "source": [
    "## 3.Gradient Descent\n",
    "### 3.1 Implement the cost function$J(θ_0,θ_1)$ \n",
    "$J(θ_0,θ_1)=\\frac{1}{2m}\\sum\\limits_{i=1}\\limits^m(h_θ(x^{(i)})-y^{(i)})^2$ "
   ]
  },
  {
   "cell_type": "code",
   "execution_count": 8,
   "id": "424a26ed",
   "metadata": {},
   "outputs": [],
   "source": [
    "def ComputeCost(X,Y,Theta):\n",
    "    \"\"\"\n",
    "    X:n-dimensional matrix, input\n",
    "    Y:n-dimensional matrix, output\n",
    "    Theta:n-dimensional matrix,parameter\n",
    "    \"\"\"\n",
    "    SSME=np.power(X*Theta.T-Y,2) #compute square of modeling error\n",
    "    return np.sum(SSME)/(2*len(X))"
   ]
  },
  {
   "cell_type": "markdown",
   "id": "e3d28e64",
   "metadata": {},
   "source": [
    "### 3.2 Implement gradient descent\n",
    "$repeat ~ until ~ convergence \\lbrace$  \n",
    "$θ_0:=θ_0-\\frac{\\alpha}{m}\\sum\\limits_{i=1}\\limits^m(h_θ(x^{(i)})-y^{(i)})$  \n",
    "$θ_1:=θ_1-\\frac{\\alpha}{m}\\sum\\limits_{i=1}\\limits^m[(h_θ(x^{(i)})-y^{(i)})x_1^{(i)}]$  \n",
    "$θ_2:=θ_2-\\frac{\\alpha}{m}\\sum\\limits_{i=1}\\limits^m[(h_θ(x^{(i)})-y^{(i)})x_2^{(i)}]$  \n",
    "$\\rbrace$"
   ]
  },
  {
   "cell_type": "code",
   "execution_count": 11,
   "id": "09ef558f",
   "metadata": {},
   "outputs": [],
   "source": [
    "def GradientDescent(X,Y,Theta,alpha,iters):\n",
    "    \"\"\"\n",
    "    X:n-dimensional matrix, input\n",
    "    Y:n-dimensional matrix, output\n",
    "    Theta:n-dimensional matrix,parameter\n",
    "    alpha:learning rate\n",
    "    iters:number of iterations\n",
    "    \"\"\"\n",
    "    temp=np.mat([0.0,0.0,0.0])\n",
    "    for i in range(iters):\n",
    "        error = (X*Theta.T-Y)\n",
    "        for j in range(3):\n",
    "            term=np.multiply(error,X[:,j])\n",
    "            temp[0,j]=Theta[0,j]-((alpha/len(X))*np.sum(term))\n",
    "        Theta=temp\n",
    "        cost=ComputeCost(X,Y,Theta)\n",
    "    return Theta,cost"
   ]
  },
  {
   "cell_type": "markdown",
   "id": "e996256f",
   "metadata": {},
   "source": [
    "### 3.3 run"
   ]
  },
  {
   "cell_type": "code",
   "execution_count": 13,
   "id": "9cb75d70",
   "metadata": {},
   "outputs": [
    {
     "name": "stdout",
     "output_type": "stream",
     "text": [
      "Fitted Curve Parameters: [[-9.98551124e-17  8.84042349e-01 -5.24551809e-02]]\n",
      "cost: 0.13068670606095903\n"
     ]
    }
   ],
   "source": [
    "data.insert(0,\"new\",1)\n",
    "X=np.mat(data.iloc[:,:-1].values)\n",
    "Y=np.mat(data.iloc[:,-1].values).T\n",
    "Theta = np.mat([0,0,0])\n",
    "alpha=0.01\n",
    "iters=1500\n",
    "parameters,cost=GradientDescent(X,Y,Theta,alpha,iters)\n",
    "print(\"Fitted Curve Parameters:\",parameters)\n",
    "print(\"cost:\",cost)"
   ]
  },
  {
   "cell_type": "markdown",
   "id": "a0999b42",
   "metadata": {},
   "source": [
    "## 4.Normal Equation\n",
    "$\\Theta=(X^TX)^{-1}X^TY$"
   ]
  },
  {
   "cell_type": "code",
   "execution_count": 15,
   "id": "7daedc84",
   "metadata": {},
   "outputs": [],
   "source": [
    "def normalEqn(X,Y):\n",
    "    Theta2 = np.linalg.pinv(X.T*X)*X.T*Y\n",
    "    return Theta2"
   ]
  },
  {
   "cell_type": "code",
   "execution_count": 20,
   "id": "d9b1eb42",
   "metadata": {},
   "outputs": [
    {
     "name": "stdout",
     "output_type": "stream",
     "text": [
      "Fitted Curve Parameters: [[ 1.04083409e-17]\n",
      " [ 8.84765988e-01]\n",
      " [-5.31788197e-02]]\n",
      "cost: 0.13068648053904197\n"
     ]
    }
   ],
   "source": [
    "parameters=normalEqn(X,Y)\n",
    "cost=ComputeCost(X,Y,parameters.T)\n",
    "print(\"Fitted Curve Parameters:\",parameters)\n",
    "print(\"cost:\",cost)"
   ]
  }
 ],
 "metadata": {
  "kernelspec": {
   "display_name": "Python 3 (ipykernel)",
   "language": "python",
   "name": "python3"
  },
  "language_info": {
   "codemirror_mode": {
    "name": "ipython",
    "version": 3
   },
   "file_extension": ".py",
   "mimetype": "text/x-python",
   "name": "python",
   "nbconvert_exporter": "python",
   "pygments_lexer": "ipython3",
   "version": "3.9.12"
  }
 },
 "nbformat": 4,
 "nbformat_minor": 5
}
