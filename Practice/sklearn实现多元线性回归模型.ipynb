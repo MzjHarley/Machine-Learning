{
 "cells": [
  {
   "cell_type": "code",
   "execution_count": 9,
   "id": "b93c7368",
   "metadata": {},
   "outputs": [
    {
     "name": "stdout",
     "output_type": "stream",
     "text": [
      "Fitted Curve Parameters: -9.268523297987521e-17 [ 0.88476599 -0.05317882]\n",
      "cost: 0.13068648053904192\n"
     ]
    }
   ],
   "source": [
    "from sklearn import linear_model,metrics\n",
    "import numpy as np\n",
    "import pandas as pd\n",
    "data = pd.read_csv(\"../Data/data2.txt\", header=None, names=['Size', 'Bedrooms', 'Price'])\n",
    "data = (data - data.mean()) / data.std()\n",
    "x=np.array(data.iloc[:,:-1])\n",
    "y=np.array(data['Price'])\n",
    "clf = linear_model.LinearRegression().fit(x,y)\n",
    "k = clf.coef_ #parameter\n",
    "b = clf.intercept_ \n",
    "y0=clf.predict(x)\n",
    "print(\"Fitted Curve Parameters:\",b,k)\n",
    "print(\"cost:\",metrics.mean_squared_error(y, y0)/2)"
   ]
  }
 ],
 "metadata": {
  "kernelspec": {
   "display_name": "Python 3 (ipykernel)",
   "language": "python",
   "name": "python3"
  },
  "language_info": {
   "codemirror_mode": {
    "name": "ipython",
    "version": 3
   },
   "file_extension": ".py",
   "mimetype": "text/x-python",
   "name": "python",
   "nbconvert_exporter": "python",
   "pygments_lexer": "ipython3",
   "version": "3.9.12"
  }
 },
 "nbformat": 4,
 "nbformat_minor": 5
}
