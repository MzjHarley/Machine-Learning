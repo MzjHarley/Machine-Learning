{
 "cells": [
  {
   "cell_type": "code",
   "execution_count": 1,
   "id": "ee9992c4",
   "metadata": {},
   "outputs": [
    {
     "name": "stdout",
     "output_type": "stream",
     "text": [
      "[[2. 2. 0. 2. 0. 1. 1. 1. 0. 1. 1. 1. 0. 0. 1. 0. 0. 1. 1. 1. 0. 2. 1. 2.\n",
      "  2. 2. 2. 2. 2. 2.]]\n",
      "[[0.6515     0.16325   ]\n",
      " [0.36136364 0.21709091]\n",
      " [0.61118182 0.41336364]]\n"
     ]
    },
    {
     "data": {
      "image/png": "[encoded data removed]",
      "text/plain": [
       "<Figure size 432x288 with 1 Axes>"
      ]
     },
     "metadata": {
      "needs_background": "light"
     },
     "output_type": "display_data"
    }
   ],
   "source": [
    "import numpy as np\n",
    "import matplotlib.pyplot as plt\n",
    "import matplotlib as mpl\n",
    "import scipy.io\n",
    " \n",
    "def loaddata():\n",
    "    data = np.loadtxt('watermelon_4.txt',delimiter=',')\n",
    "    return data\n",
    " \n",
    "X = loaddata()\n",
    "plt.scatter(X[:, 0], X[:, 1], s=20)\n",
    "#随机初始化中心点\n",
    "def kMeansInitCentroids(X, k):\n",
    "    #从X的数据中随机取k个作为中心点\n",
    "    # 补充随机初始化中心点的代码\n",
    "    m,n=X.shape\n",
    "    centroids=np.zeros((k,n))\n",
    "    idx=np.random.randint(0,m,k)\n",
    "    for i in range(k):\n",
    "        centroids[i,:]=X[idx[i],:]\n",
    "    return centroids\n",
    " \n",
    "#计算数据点到中心点的距离，并判断该数据点属于哪个中心点\n",
    "def findClosestCentroids(X, centroids):\n",
    "    #idx中数据表明对应X的数据是属于哪一个中心点的\n",
    "    idx = np.zeros(len(X)).reshape( X.shape[0],-1)\n",
    "    for i in range(len(X)):\n",
    "        #补充计算数据点到中心点的距离，并判断该数据点所属中心点的代码\n",
    "        min_dist=1000000\n",
    "        for j in range (centroids.shape[0]):\n",
    "            dist=np.sum((X[i,:]-centroids[j,:])**2)\n",
    "            if(dist<min_dist):\n",
    "                min_dist = dist\n",
    "                idx[i]=j\n",
    "    return idx\n",
    " \n",
    "#重新计算中心点位置\n",
    "def computeCentroids(X, idx):\n",
    "    k = set(np.ravel(idx).tolist()) #找到所有聚类中心索引\n",
    "    k = list(k)\n",
    "    centroids = np.ndarray((len(k),X.shape[1]))\n",
    "    for i in range(len(k)):\n",
    "        #选择数据X中类别为k[i]的数据\n",
    "        data = X[np.where(idx==k[i])[0]]\n",
    "        #重新计算聚类中心\n",
    "        centroids[i] = np.sum(data,axis=0)/len(data)\n",
    "    return centroids\n",
    " \n",
    "def k_means(X, k, max_iters):\n",
    "    initial_centroids = kMeansInitCentroids(X,k)\n",
    "    #补充k均值代码\n",
    "    idx=np.zeros(X.shape)\n",
    "    centroids=initial_centroids\n",
    "    for i in range(max_iters):\n",
    "        idx = findClosestCentroids(X,centroids)\n",
    "        centroids=computeCentroids(X,idx)\n",
    "    return idx,centroids\n",
    " \n",
    "idx,centroids = k_means(X, 3, 8)\n",
    "idx=idx.reshape(1,-1)\n",
    "print(idx)\n",
    "print(centroids)\n",
    " \n",
    "cm_dark = mpl.colors.ListedColormap(['g', 'r', 'b'])\n",
    "plt.scatter(X[:, 0], X[:, 1], c=np.ravel(idx), cmap=cm_dark, s=20)\n",
    "plt.scatter(centroids[:, 0], centroids[:, 1], c=np.arange(len(centroids)), cmap=cm_dark, marker='*', s=500)\n",
    "plt.show()"
   ]
  }
 ],
 "metadata": {
  "kernelspec": {
   "display_name": "Python 3 (ipykernel)",
   "language": "python",
   "name": "python3"
  },
  "language_info": {
   "codemirror_mode": {
    "name": "ipython",
    "version": 3
   },
   "file_extension": ".py",
   "mimetype": "text/x-python",
   "name": "python",
   "nbconvert_exporter": "python",
   "pygments_lexer": "ipython3",
   "version": "3.9.12"
  }
 },
 "nbformat": 4,
 "nbformat_minor": 5
}
