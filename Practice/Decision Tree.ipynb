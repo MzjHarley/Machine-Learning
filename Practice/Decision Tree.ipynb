{
 "cells": [
  {
   "cell_type": "code",
   "execution_count": 1,
   "id": "eeba806f",
   "metadata": {},
   "outputs": [],
   "source": [
    "from math import log\n",
    "import numpy as np\n",
    "import operator"
   ]
  },
  {
   "cell_type": "code",
   "execution_count": 2,
   "id": "7f19d6e5",
   "metadata": {},
   "outputs": [],
   "source": [
    "def loaddata ():\n",
    "    dataSet = [[0, 0,0,0,0,0, 'yes'],\n",
    "               [1, 0,1,0,0,0,'yes'],\n",
    "               [1, 0,0,0,0,0,'yes'],\n",
    "               [0, 0,1,0,0,0,'yes'],\n",
    "               [2, 0,0,0,0,0,'yes'],\n",
    "               [0, 1,0,0,1,1,'yes'],\n",
    "               [1, 1,0,1,1,1,'yes'],\n",
    "               [1, 1,0,0,1,0, 'yes'],\n",
    "               [1, 1,1,1,1,0,'no'],\n",
    "               [0, 2,2,0,2,1,'no'],\n",
    "               [2, 2,2,2,2,0,'no'],\n",
    "               [2, 0,0,2,2,1,'no'],\n",
    "               [0, 1,0,1,0,0, 'no'],\n",
    "               [2, 1,1,1,0,0,'no'],\n",
    "               [1, 1,0,0,1,1,'no'],\n",
    "               [2, 0,0,2,2,0,'no'],\n",
    "               [0, 0,1,1,1,0,'no']]\n",
    "    feature_name = ['a1','a2','a3','a4','a5','a6']\n",
    "    return dataSet, feature_name"
   ]
  },
  {
   "cell_type": "code",
   "execution_count": 3,
   "id": "c728a7f1",
   "metadata": {},
   "outputs": [],
   "source": [
    "def entropy(dataSet):\n",
    "    \"\"\"计算信息熵\"\"\"\n",
    "    #数据集条数\n",
    "    m = len(dataSet)\n",
    "    #保存所有的类别及属于该类别的样本数\n",
    "    labelCounts = {}\n",
    "    for featVec in dataSet:\n",
    "        currentLabel = featVec[-1]\n",
    "        if currentLabel not in labelCounts.keys(): \n",
    "            labelCounts[currentLabel] = 0\n",
    "        labelCounts[currentLabel] += 1\n",
    "    #保存熵值\n",
    "    e=0.0\n",
    "    for label in labelCounts.keys():\n",
    "        e -=labelCounts[label]*1.0/m *log(labelCounts[label]*1.0/m,2)\n",
    "    return e"
   ]
  },
  {
   "cell_type": "code",
   "execution_count": 4,
   "id": "58cebb8d",
   "metadata": {},
   "outputs": [],
   "source": [
    "def splitDataSet(dataSet, axis, value):\n",
    "    \"\"\"给定特征和特征值划分数据集dataSet\"\"\"\n",
    "    # axis对应的是特征的索引;\n",
    "    retDataSet = []\n",
    "    #遍历数据集\n",
    "    for featVec in dataSet:\n",
    "        if featVec[axis] == value:\n",
    "            reducedFeatVec = featVec[:axis]\n",
    "            reducedFeatVec.extend(featVec[axis+1:])\n",
    "            #上面两行是拿到除了当前特征的其他列\n",
    "            retDataSet.append(reducedFeatVec)\n",
    "    return retDataSet"
   ]
  },
  {
   "cell_type": "code",
   "execution_count": 5,
   "id": "692f5aeb",
   "metadata": {},
   "outputs": [],
   "source": [
    "def chooseBestFeature(dataSet):\n",
    "    \"\"\"据信息增益选择最好的特征\"\"\"\n",
    "    n = len(dataSet[0]) - 1 #特征的数目\n",
    "    #计数整个数据集的熵\n",
    "    baseEntropy = entropy(dataSet)\n",
    "    bestInfoGain = 0.0; bestFeature = -1\n",
    "    #遍历每个特征\n",
    "    for i in range(n):  \n",
    "        #获取当前特征i的所有可能取值\n",
    "        featList = [example[i] for example in dataSet] #取出每个特征的值\n",
    "        uniqueVals = set(featList)#特征所具有的值的集合\n",
    "        newEntropy = 0.0\n",
    "        #遍历特征i的每一个可能的取值\n",
    "        for value in uniqueVals:\n",
    "            #按特征i的value值进行数据集的划分\n",
    "            subDataSet = splitDataSet(dataSet, i, value)\n",
    "            #补充计算条件熵的代码\n",
    "            newEntropy +=len(subDataSet)*1.0/len(dataSet)*entropy(subDataSet) #这里计算每个子集的条件熵，并相加\n",
    "        #计算信息增益  \n",
    "        infoGain = baseEntropy - newEntropy  \n",
    "        #保存当前最大的信息增益及对应的特征\n",
    "        if (infoGain > bestInfoGain):\n",
    "            bestInfoGain = infoGain\n",
    "            bestFeature = i\n",
    "    return bestFeature"
   ]
  },
  {
   "cell_type": "code",
   "execution_count": 6,
   "id": "02c2f418",
   "metadata": {},
   "outputs": [],
   "source": [
    "def classVote(classList):\n",
    "    \"\"\"获取出现次数最多的类别名称\"\"\"\n",
    "    #定义字典，保存每个标签对应的个数 \n",
    "    classCount={}\n",
    "    for vote in classList:\n",
    "        if vote not in classCount.keys(): \n",
    "            classCount[vote] = 0\n",
    "        classCount[vote] += 1\n",
    "     #排序找到数目最多的类别\n",
    "     #dict.item()将key和value组成一个元组，并把这些元组放在列表中返回。\n",
    "    #operator.itemgetter(1)按照第二个元素的次序对元组进行排序\n",
    "    #reverse=True是逆序，即按照从大到小的顺序排列\n",
    "    sortedClassCount = sorted(classCount.items(), key=operator.itemgetter(1), reverse=True)\n",
    "    return sortedClassCount[0][0]"
   ]
  },
  {
   "cell_type": "code",
   "execution_count": 7,
   "id": "dd132aa6",
   "metadata": {},
   "outputs": [],
   "source": [
    "def trainTree(dataSet,feature_name):\n",
    "    classList = [example[-1] for example in dataSet] #拿到所有的标签\n",
    "    #所有类别都一致\n",
    "    if classList.count(classList[0]) == len(classList): \n",
    "        return classList[0] \n",
    "    #数据集中没有特征\n",
    "    if len(dataSet[0]) == 1: \n",
    "        return classVote(classList)\n",
    "    #选择最优划分特征:返回最优特征索引\n",
    "    bestFeat = chooseBestFeature(dataSet)\n",
    "    #得到最优特征的标签\n",
    "    bestFeatName = feature_name[bestFeat]\n",
    "    myTree = {bestFeatName:{}}\n",
    "    del feature_name[bestFeat]\n",
    "    featValues = [example[bestFeat] for example in dataSet] #拿到该特征的所有值\n",
    "    uniqueVals = set(featValues)#去重\n",
    "    #遍历uniqueVals中的每个值，生成相应的分支\n",
    "    for value in uniqueVals:\n",
    "        sub_feature_name = feature_name[:]\n",
    "        # 生成在dataSet中bestFeat取值为value的子集；\n",
    "        sub_dataset = splitDataSet(dataSet,bestFeat,value)\n",
    "        # 根据得到的子集，生成决策树\n",
    "        myTree[bestFeatName][value] = trainTree(sub_dataset,sub_feature_name)\n",
    "    return myTree"
   ]
  },
  {
   "cell_type": "code",
   "execution_count": 8,
   "id": "fbb01e03",
   "metadata": {},
   "outputs": [
    {
     "name": "stdout",
     "output_type": "stream",
     "text": [
      "{'a4': {0: {'a2': {0: 'yes', 1: {'a1': {0: 'yes', 1: {'a6': {0: 'yes', 1: 'no'}}}}, 2: 'no'}}, 1: {'a6': {0: 'no', 1: 'yes'}}, 2: 'no'}}\n"
     ]
    }
   ],
   "source": [
    "myDat,feature_name = loaddata()\n",
    "myTree = trainTree(myDat,feature_name)\n",
    "print(myTree)"
   ]
  }
 ],
 "metadata": {
  "kernelspec": {
   "display_name": "Python 3 (ipykernel)",
   "language": "python",
   "name": "python3"
  },
  "language_info": {
   "codemirror_mode": {
    "name": "ipython",
    "version": 3
   },
   "file_extension": ".py",
   "mimetype": "text/x-python",
   "name": "python",
   "nbconvert_exporter": "python",
   "pygments_lexer": "ipython3",
   "version": "3.9.12"
  }
 },
 "nbformat": 4,
 "nbformat_minor": 5
}
