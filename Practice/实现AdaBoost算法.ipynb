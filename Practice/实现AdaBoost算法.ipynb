{
 "cells": [
  {
   "cell_type": "code",
   "execution_count": 1,
   "id": "9232c64f",
   "metadata": {},
   "outputs": [
    {
     "name": "stdout",
     "output_type": "stream",
     "text": [
      "train accuarcy: 1.0\n",
      "test accuarcy: 0.9722222222222222\n"
     ]
    }
   ],
   "source": [
    "from sklearn.tree import DecisionTreeClassifier\n",
    "from sklearn.ensemble import AdaBoostClassifier\n",
    "from sklearn.datasets import load_iris\n",
    "from sklearn.metrics import accuracy_score\n",
    "from sklearn.model_selection import train_test_split\n",
    "import numpy as np\n",
    " \n",
    "data = np.loadtxt('wine.data',delimiter=',')\n",
    " \n",
    "X = data[:,1:]\n",
    "y = data[:,0:1]\n",
    "X_train,X_test,y_train,y_test = train_test_split(X,y.ravel(),train_size=0.8,random_state=0)\n",
    " \n",
    "rf=DecisionTreeClassifier()\n",
    " \n",
    "model=AdaBoostClassifier(base_estimator=rf,n_estimators=50,learning_rate=0.5)\n",
    "model.fit(X_train,y_train)\n",
    " \n",
    "y_train_hat = model.predict(X_train)\n",
    "print(\"train accuarcy:\",accuracy_score(y_train,y_train_hat))\n",
    " \n",
    "y_test_hat=model.predict(X_test)\n",
    "print(\"test accuarcy:\",accuracy_score(y_test,y_test_hat))"
   ]
  }
 ],
 "metadata": {
  "kernelspec": {
   "display_name": "Python 3 (ipykernel)",
   "language": "python",
   "name": "python3"
  },
  "language_info": {
   "codemirror_mode": {
    "name": "ipython",
    "version": 3
   },
   "file_extension": ".py",
   "mimetype": "text/x-python",
   "name": "python",
   "nbconvert_exporter": "python",
   "pygments_lexer": "ipython3",
   "version": "3.9.12"
  }
 },
 "nbformat": 4,
 "nbformat_minor": 5
}
