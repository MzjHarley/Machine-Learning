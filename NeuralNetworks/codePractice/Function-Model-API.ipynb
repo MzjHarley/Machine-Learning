{
 "cells": [
  {
   "cell_type": "code",
   "execution_count": 1,
   "id": "39b96c00",
   "metadata": {},
   "outputs": [],
   "source": [
    "import tensorflow as tf\n",
    "import pandas as pd \n",
    "import matplotlib.pyplot as plt\n",
    "import numpy as np "
   ]
  },
  {
   "cell_type": "code",
   "execution_count": 2,
   "id": "fab1a842",
   "metadata": {},
   "outputs": [],
   "source": [
    "(train_image,train_label),(test_image,test_label)=tf.keras.datasets.fashion_mnist.load_data()"
   ]
  },
  {
   "cell_type": "code",
   "execution_count": 3,
   "id": "922e77c3",
   "metadata": {},
   "outputs": [],
   "source": [
    "train_image=train_image/255\n",
    "test_image=test_image/255"
   ]
  },
  {
   "cell_type": "code",
   "execution_count": 4,
   "id": "17448e27",
   "metadata": {},
   "outputs": [],
   "source": [
    "input = tf.keras.Input(shape=(28,28))"
   ]
  },
  {
   "cell_type": "code",
   "execution_count": 5,
   "id": "ad4b175f",
   "metadata": {},
   "outputs": [],
   "source": [
    "F1=tf.keras.layers.Flatten()(input)"
   ]
  },
  {
   "cell_type": "code",
   "execution_count": 7,
   "id": "f9b07464",
   "metadata": {},
   "outputs": [],
   "source": [
    "D1=tf.keras.layers.Dense(32,activation='relu')(F1)"
   ]
  },
  {
   "cell_type": "code",
   "execution_count": 9,
   "id": "b6c98f52",
   "metadata": {},
   "outputs": [],
   "source": [
    "D2=tf.keras.layers.Dense(64,activation='relu')(D1)"
   ]
  },
  {
   "cell_type": "code",
   "execution_count": 10,
   "id": "148ad115",
   "metadata": {},
   "outputs": [],
   "source": [
    "Dropout=tf.keras.layers.Dropout(0.5)(D2)"
   ]
  },
  {
   "cell_type": "code",
   "execution_count": 12,
   "id": "2bb09390",
   "metadata": {},
   "outputs": [],
   "source": [
    "output=tf.keras.layers.Dense(10,activation='softmax')(Dropout)"
   ]
  },
  {
   "cell_type": "code",
   "execution_count": 14,
   "id": "4e7167f8",
   "metadata": {},
   "outputs": [],
   "source": [
    "model=tf.keras.Model(inputs=input,outputs=output)"
   ]
  },
  {
   "cell_type": "code",
   "execution_count": 15,
   "id": "cdafe12a",
   "metadata": {},
   "outputs": [
    {
     "name": "stdout",
     "output_type": "stream",
     "text": [
      "Model: \"model\"\n",
      "_________________________________________________________________\n",
      "Layer (type)                 Output Shape              Param #   \n",
      "=================================================================\n",
      "input_1 (InputLayer)         [(None, 28, 28)]          0         \n",
      "_________________________________________________________________\n",
      "flatten (Flatten)            (None, 784)               0         \n",
      "_________________________________________________________________\n",
      "dense_1 (Dense)              (None, 32)                25120     \n",
      "_________________________________________________________________\n",
      "dense_3 (Dense)              (None, 64)                2112      \n",
      "_________________________________________________________________\n",
      "dropout (Dropout)            (None, 64)                0         \n",
      "_________________________________________________________________\n",
      "dense_4 (Dense)              (None, 10)                650       \n",
      "=================================================================\n",
      "Total params: 27,882\n",
      "Trainable params: 27,882\n",
      "Non-trainable params: 0\n",
      "_________________________________________________________________\n"
     ]
    }
   ],
   "source": [
    "model.summary()"
   ]
  },
  {
   "cell_type": "code",
   "execution_count": 16,
   "id": "be94c667",
   "metadata": {},
   "outputs": [],
   "source": [
    "model.compile(optimizer='adam',\n",
    "              loss='sparse_categorical_crossentropy', #label不是one-hot编码\n",
    "              metrics=['acc']\n",
    ")"
   ]
  },
  {
   "cell_type": "code",
   "execution_count": 17,
   "id": "3371b029",
   "metadata": {},
   "outputs": [
    {
     "name": "stdout",
     "output_type": "stream",
     "text": [
      "Epoch 1/5\n",
      "1875/1875 [==============================] - 2s 832us/step - loss: 0.6744 - acc: 0.7673\n",
      "Epoch 2/5\n",
      "1875/1875 [==============================] - 2s 816us/step - loss: 0.4679 - acc: 0.8381\n",
      "Epoch 3/5\n",
      "1875/1875 [==============================] - 2s 829us/step - loss: 0.4266 - acc: 0.8492\n",
      "Epoch 4/5\n",
      "1875/1875 [==============================] - 2s 824us/step - loss: 0.4093 - acc: 0.8545\n",
      "Epoch 5/5\n",
      "1875/1875 [==============================] - 2s 817us/step - loss: 0.3907 - acc: 0.8616\n"
     ]
    },
    {
     "data": {
      "text/plain": [
       "<tensorflow.python.keras.callbacks.History at 0x215057cfc08>"
      ]
     },
     "execution_count": 17,
     "metadata": {},
     "output_type": "execute_result"
    }
   ],
   "source": [
    "model.fit(train_image,train_label,epochs=5) #1875*32=60000，every epoch has 1875 batches ,and every batches has 32 figures."
   ]
  },
  {
   "cell_type": "code",
   "execution_count": 18,
   "id": "4531c011",
   "metadata": {},
   "outputs": [
    {
     "name": "stdout",
     "output_type": "stream",
     "text": [
      "313/313 [==============================] - 0s 583us/step - loss: 0.3799 - acc: 0.8638\n"
     ]
    },
    {
     "data": {
      "text/plain": [
       "[0.37987908720970154, 0.8637999892234802]"
      ]
     },
     "execution_count": 18,
     "metadata": {},
     "output_type": "execute_result"
    }
   ],
   "source": [
    "model.evaluate(test_image,test_label)"
   ]
  }
 ],
 "metadata": {
  "kernelspec": {
   "display_name": "Python [conda env:code] *",
   "language": "python",
   "name": "conda-env-code-py"
  },
  "language_info": {
   "codemirror_mode": {
    "name": "ipython",
    "version": 3
   },
   "file_extension": ".py",
   "mimetype": "text/x-python",
   "name": "python",
   "nbconvert_exporter": "python",
   "pygments_lexer": "ipython3",
   "version": "3.7.13"
  }
 },
 "nbformat": 4,
 "nbformat_minor": 5
}
